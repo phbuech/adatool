{
  "cells": [
    {
      "cell_type": "raw",
      "metadata": {},
      "source": [
        "---\n",
        "title: \"Get started\"\n",
        "execute:\n",
        "    echo: false\n",
        "---"
      ],
      "id": "962eab95"
    },
    {
      "cell_type": "markdown",
      "metadata": {},
      "source": [
        "This tutorial is a step-by-step guide to install ADA. The software can be installed via (1) the use of installation scripts (Mac/Windows) or (2) manually for technical users.\n",
        "\n",
        "# Prerequisites\n",
        "\n",
        "It is necessary to have a working Python installation on your computer. I recommend [Anaconda](https://www.anaconda.com/) for non-technical users and its installation is mandatory if you want to use the installation scripts. Technical users, who want to install ADA manually can use the usual channels for obtaining a Python distribution.\n",
        "\n",
        "Anaconda is an open-source data science and includes programmings language like Python and R. It can be installed like any other program on your operating system. For the installation of Anaconda\n",
        "\n",
        "1. download a copy for your operating system [here](https://www.anaconda.com/download)\n",
        "\n",
        "Please follow then the installation instructions\n",
        "\n",
        "- for [Mac](https://docs.anaconda.com/free/anaconda/install/mac-os/)\n",
        "- for [Windows](https://docs.anaconda.com/free/anaconda/install/windows/)\n",
        "- for [Linux](https://docs.anaconda.com/free/anaconda/install/linux/)\n",
        "\n",
        "Please do not change the settings or paths if you want use the installation scripts for ADA.\n",
        "\n",
        "# ADA installation\n",
        "\n",
        "## 1. Download ADA\n",
        "\n",
        "No binaries for different operating systems are available at the moment, so it is necessary to download the source files. \n",
        "\n",
        "1. Go on the GitHub repository [here](https://github.com/phbuech/adatool). \n",
        "2. Be sure that the branch <i>main</i> is selected\n",
        "3. Click on <i>Code</i>\n",
        "4. Click on <i>Download zip</i> to download the files\n",
        "\n",
        "You should see a file <i>adatool-main.zip</i> in your Downloads folder. You can now unzip this archive on any location of your computer.\n",
        "\n",
        "If you want to use the installation scripts for ADA, please follow the instructions in 2. See 3. for the manual installation.\n",
        "\n",
        "\n",
        "## 2. Installation via scripts\n",
        "\n",
        "This sections shows how to install ADA via scripts. These scripts are very basic, so please ensure that you remove <i>adatool-main.zip</i> archive before you run any of these scripts. Only the folder <i>adatool-main</i> should be on your computer.\n",
        "\n",
        "If you are using Mac, you have to open the <i>adatool-main</i> folder. Then go on <i>installation_scripts</i>.\n",
        "\n",
        "### 2.1 Mac\n",
        "\n",
        "Mac users need to run the script <i>install_ADA_MacOS.command</i>. In order to run the script, you have to right-click onto the script and click on <i>Open</i> in the menu. It will not work otherwise, since this software is downloaded from the internet.\n",
        "\n",
        "::: {.callout-note appearance=\"simple\"}\n",
        "\n",
        "## Pay Attention\n",
        "\n",
        "Please be sure that adatoo-main is the only folder or file with this name. If you still have the adatool-main.zip file, please delete it.\n",
        "\n",
        ":::\n",
        "\n",
        "### 2.2 Windows\n",
        "\n",
        "Windows users need to run the script <i>install_ADA_windows.bat</i> by double-clicking on its icon. It should work out of the box. Enter <i><yes</i> anytime the script asks for a reply. All necessary installation will be done by the script.\n",
        "\n",
        "\n",
        "## 3. Manual installation\n",
        "\n",
        "In the manual installation, the users need to create a Python environment first. This is done in the terminal for Mac and Linux users, or in the Anaconda prompt for Windows users. The environment for ADA is then created by entering the following command:\n"
      ],
      "id": "689bfe47"
    },
    {
      "cell_type": "code",
      "metadata": {},
      "source": [
        "conda create --name ada_env Python=3.10"
      ],
      "id": "d96b49dc",
      "execution_count": null,
      "outputs": []
    },
    {
      "cell_type": "markdown",
      "metadata": {},
      "source": [
        "In the next step, the environment has to be activated by entering:\n"
      ],
      "id": "e77df1cf"
    },
    {
      "cell_type": "code",
      "metadata": {},
      "source": [
        "conda activate ada_env"
      ],
      "id": "c0310cda",
      "execution_count": null,
      "outputs": []
    },
    {
      "cell_type": "markdown",
      "metadata": {},
      "source": [
        "When this is done, (ada_env) should be placed at the beginning or the end at the current terminal line. Finally, the necessary dependencies have to be installed.\n",
        "The list of these dependencies is given in the <i>requirements.txt</i> file located in the installation scripts folder, but only the path to this file is needed.\n",
        "They can be installed via the command:"
      ],
      "id": "9860f87f"
    },
    {
      "cell_type": "code",
      "metadata": {},
      "source": [
        "pip3 install -r /path/to/the/requirements.txt"
      ],
      "id": "8f75fde9",
      "execution_count": null,
      "outputs": []
    },
    {
      "cell_type": "markdown",
      "metadata": {},
      "source": [
        "# Running ADA\n",
        "After the installation is completed, ADA can be started either by using a script for Mac or Windows, or manually\n",
        "\n",
        "## 1. Start via script\n",
        "\n",
        "### 1. Mac\n",
        "\n",
        "Mac users must run the run_ADA_MacOS.command script. Similar to the installation script, the very first execution has to be done via right-click and then selecting <i>Open</i>. Another other execution afterwards can be done by a double click.\n",
        "\n",
        "### 2. Windows\n",
        "\n",
        "Windows users must run the run_ADA_Windows.bat script.\n",
        "\n",
        "## 3. Manual start\n",
        "\n",
        "For a manual start of ADA, Linux and Mac users have to open the terminal and Windows users the Anaconda prompt. Next, the <i>ada_env</i> environment has to be activated by:\n",
        "```\n",
        "conda activate ada_env\n",
        "```\n",
        "\n",
        "Finally, ADA can be started by executing the <i>main.py</i> file in the <i>src</i> subdirectory of the adatool-main folder:"
      ],
      "id": "faae8d5a"
    },
    {
      "cell_type": "code",
      "metadata": {},
      "source": [
        "python /path_to/adatool-main/src/main.py -style fusion"
      ],
      "id": "8abbea42",
      "execution_count": null,
      "outputs": []
    }
  ],
  "metadata": {
    "kernelspec": {
      "name": "python3",
      "language": "python",
      "display_name": "Python 3 (ipykernel)"
    }
  },
  "nbformat": 4,
  "nbformat_minor": 5
}